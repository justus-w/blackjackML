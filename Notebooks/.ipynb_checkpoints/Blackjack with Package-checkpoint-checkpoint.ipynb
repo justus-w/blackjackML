{
 "cells": [
  {
   "cell_type": "code",
   "execution_count": 1,
   "metadata": {
    "collapsed": false
   },
   "outputs": [
    {
     "name": "stdout",
     "output_type": "stream",
     "text": [
      "15.0\n",
      "-15.0\n",
      "-5.0\n",
      "-70.0\n",
      "30.0\n",
      "110.0\n",
      "-150.0\n",
      "-235.0\n",
      "-345.0\n",
      "-175.0\n"
     ]
    }
   ],
   "source": [
    "import blackjackML as bjml\n",
    "\n",
    "n_games = 1000\n",
    "n_decks = 6\n",
    "\n",
    "# create and add players\n",
    "p1 = bjml.Player(name='Roger Baldwin', strategy_class=bjml.OptimalStrategy)\n",
    "players = [p1]\n",
    "\n",
    "table = bjml.Table(players, n_decks)\n",
    "\n",
    "for game_id in range(n_games):\n",
    "    #empty hands\n",
    "    table.reset()\n",
    "    #betting\n",
    "    table.play_a_game(game_id)"
   ]
  },
  {
   "cell_type": "code",
   "execution_count": null,
   "metadata": {
    "collapsed": true
   },
   "outputs": [],
   "source": []
  }
 ],
 "metadata": {
  "kernelspec": {
   "display_name": "Python 2",
   "language": "python",
   "name": "python2"
  },
  "language_info": {
   "codemirror_mode": {
    "name": "ipython",
    "version": 2
   },
   "file_extension": ".py",
   "mimetype": "text/x-python",
   "name": "python",
   "nbconvert_exporter": "python",
   "pygments_lexer": "ipython2",
   "version": "2.7.10"
  }
 },
 "nbformat": 4,
 "nbformat_minor": 0
}
